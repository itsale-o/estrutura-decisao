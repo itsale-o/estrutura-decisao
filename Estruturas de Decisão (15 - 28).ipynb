{
 "cells": [
  {
   "cell_type": "markdown",
   "id": "96acbc5f",
   "metadata": {},
   "source": [
    "# Estruturas de decisão"
   ]
  },
  {
   "cell_type": "markdown",
   "id": "f111f2ac",
   "metadata": {},
   "source": [
    "#### 15. Faça um Programa que peça os 3 lados de um triângulo. O programa deverá informar se os valores podem ser um triângulo. Indique, caso os lados formem um triângulo, se o mesmo é: equilátero, isósceles ou escaleno.\n",
    "\n",
    "\n",
    "Dicas:\n",
    "- Três lados formam um triângulo quando a soma de quaisquer dois lados for maior que o terceiro;\n",
    "- Triângulo Equilátero: três lados iguais;\n",
    "- Triângulo Isósceles: quaisquer dois lados iguais;\n",
    "- Triângulo Escaleno: três lados diferentes;"
   ]
  },
  {
   "cell_type": "code",
   "execution_count": null,
   "id": "3f16af5e",
   "metadata": {
    "scrolled": true
   },
   "outputs": [],
   "source": [
    "lado1 = float(input('Lado 1: '))\n",
    "lado2 = float(input('Lado 2: '))\n",
    "lado3 = float(input('Lado 3: '))\n",
    "\n",
    "if ((lado1 + lado2) > lado3) or ((lado1 + lado3) > lado2) or ((lado2 + lado3) > lado1):\n",
    "    if lado1 == lado2 == lado3:\n",
    "        print('É um triângulo equilátero')\n",
    "    elif (lado1 == lado2) or (lado1 == lado3) or (lado2 == lado3):\n",
    "        print('É um triângulo isósceles')\n",
    "    else:\n",
    "        print('É um triângulo escaleno')\n",
    "else:\n",
    "    print('Não é um triângulo')"
   ]
  },
  {
   "cell_type": "markdown",
   "id": "5991a755",
   "metadata": {},
   "source": [
    "#### 16. Faça um programa que calcule as raízes de uma equação do segundo grau, na forma $ax² + bx + c$. O programa deverá pedir os valores de a, b e c e fazer as consistências, informando ao usuário nas seguintes situações:\n",
    "\n",
    "- Se o usuário informar o valor de A igual a zero, a equação não é do segundo grau e o programa não deve fazer pedir os demais valores, sendo encerrado;\n",
    "- Se o delta calculado for negativo, a equação não possui raizes reais. Informe ao usuário e encerre o programa;\n",
    "- Se o delta calculado for igual a zero a equação possui apenas uma raiz real; informe-a ao usuário;\n",
    "- Se o delta for positivo, a equação possui duas raiz reais; informe-as ao usuário;"
   ]
  },
  {
   "cell_type": "code",
   "execution_count": null,
   "id": "5e903745",
   "metadata": {},
   "outputs": [],
   "source": [
    "import math\n",
    "a = float(input('a = '))\n",
    "\n",
    "if a == 0:\n",
    "    print('a = 0 não retorna uma equação do segundo grau')\n",
    "else:\n",
    "    b = float(input('b = '))\n",
    "    c = float(input('c = '))\n",
    "    delta = (b ** 2) - (4 * a * c)\n",
    "    if delta < 0:\n",
    "        print(f'▲ negativo --> Portanto esta equação não possui raízes reais como solução')\n",
    "    elif delta == 0:\n",
    "        x = -b / (2 * a)\n",
    "        print(f'▲ = 0 --> Portanto esta equação possui apenas uma raíz: x = {x:.0f}')\n",
    "    else:\n",
    "        x1 = (-b + math.sqrt(delta)) / (2 * a)\n",
    "        x2 = (-b - math.sqrt(delta)) / (2 * a)\n",
    "        print(f'Esta equação possui duas raízes:\\nx_1 = {x1:.0f}\\nx_2 = {x2:.0f}')"
   ]
  },
  {
   "cell_type": "markdown",
   "id": "ae659e03",
   "metadata": {},
   "source": [
    "#### 17. Você está construindo um calendário para controlar dias de trabalho a pedido do RH. Nessa construção, você vai precisar definir quais anos são bissextos e quais não são, para montar o calendário de forma correta. Faça um Programa que peça um número correspondente a um determinado ano e em seguida informe se este ano é ou não bissexto.\n",
    "<pre>\n",
    "Dica para determinar se um ano é bissexto: \n",
    "- São bissextos todos os anos múltiplos de 400, p.ex.: 1600, 2000, 2400, 2800...\n",
    "- São bissextos todos os múltiplos de 4, exceto se for múltiplo de 100 mas não de 400, \n",
    "p.ex.: 1996, 2000, 2004, 2008, 2012, 2016, 2020, 2024, 2028...\n",
    "- Não são bissextos todos os demais anos.<br>\n",
    "ex1: 2004 é múltiplo de 4, mas não é múltiplo de 100, então é bissexto.\n",
    "ex2: 2000 é múltiplo de 4, mas é múltiplo de 100, só que também é multiplo de 400, então é bissexto (porque todo ano múltiplo de 400 é bissexto, independente do resto).\n",
    "ex3: 1900 é múltiplo de 4, é múltiplo de 100, mas não é múltiplo de 400, então não é bissexto\n",
    "\n",
    "</pre>\n",
    "\n",
    "Dica: lembre que: numero % 4 é o resto da divisão do número por 4, ex: 10 % 3 = 1 (já que 10/3 = 3 e resta 1)"
   ]
  },
  {
   "cell_type": "code",
   "execution_count": null,
   "id": "b182a248",
   "metadata": {
    "scrolled": false
   },
   "outputs": [],
   "source": [
    "ano = float(input('Ano: '))\n",
    "\n",
    "if (ano % 4 == 0 and ano % 100 != 0) or (ano % 400 == 0):\n",
    "    print(f'{ano:.0f} é um ano bissexto')\n",
    "else:\n",
    "    print(f'{ano:.0f} não é um ano bissexto')"
   ]
  },
  {
   "cell_type": "markdown",
   "id": "698d0797",
   "metadata": {},
   "source": [
    "#### 18. Faça um Programa que peça uma data no formato dd/mm/aaaa e determine se a mesma é uma data válida."
   ]
  },
  {
   "cell_type": "code",
   "execution_count": null,
   "id": "402c3b39",
   "metadata": {
    "scrolled": true
   },
   "outputs": [],
   "source": [
    "data = (input(\"Data: \"))\n",
    "\n",
    "if int(data[0:2]) != 0  and int(data[0:2]) <= 31 :\n",
    "    if int(data[3:5]) != 0  and int(data[3:5]) <= 12 :\n",
    "        if int(data[6:11]) != 0 :\n",
    "            print(\"Data Válida\")\n",
    "        else :\n",
    "            print(\"Data Inválida\")\n",
    "    else :\n",
    "        print(\"Data Inválida\")\n",
    "else:\n",
    "    print(\"Data Inválida\")"
   ]
  },
  {
   "cell_type": "markdown",
   "id": "199fd820",
   "metadata": {},
   "source": [
    "#### 19. Faça um Programa que leia um número inteiro menor que 1000 e imprima a quantidade de centenas, dezenas e unidades do mesmo.\n",
    "\n",
    "Observando os termos no plural a colocação do \"e\", da vírgula entre outros. Exemplo:\n",
    "\n",
    "- 326 = 3 centenas, 2 dezenas e 6 unidades\n",
    "- 12 = 1 dezena e 2 unidades Testar com: 326, 300, 100, 320, 310,305, 301, 101, 311, 111, 25, 20, 10, 21, 11, 1, 7 e 16"
   ]
  },
  {
   "cell_type": "code",
   "execution_count": null,
   "id": "b584c174",
   "metadata": {},
   "outputs": [],
   "source": [
    "num = float(input('Informe um número entre 1 e 999: '))\n",
    "centena = num // 100\n",
    "dezena = (num % 100) // 10\n",
    "unidade = (num % 100) % 10\n",
    "\n",
    "if centena == 0:\n",
    "    if dezena == 0:\n",
    "        print(f'{unidade:.0f} unidades')\n",
    "    elif unidade == 0:\n",
    "        print(f'{dezena:.0f} dezenas')\n",
    "    else:\n",
    "        print(f'{dezena:.0f} dezenas e {unidade:.0f} unidades')\n",
    "elif dezena == 0:\n",
    "    if unidade == 0:\n",
    "        print(f'{centena:.0f} centenas')\n",
    "    else:\n",
    "        print(f'{centena:.0f} centenas e {unidade:.0f} unidades')\n",
    "elif unidade == 0:\n",
    "    if centena == 0:\n",
    "        print(f'{dezena:.0f} dezenas')\n",
    "    else:\n",
    "        print(f'{centena:.0f} centenas e {dezena:.0f} dezenas')\n",
    "else:\n",
    "    print(f'{centena:.0f} centenas, {dezena:.0f} dezenas e {unidade:.0f} unidades')"
   ]
  },
  {
   "cell_type": "markdown",
   "id": "b9744d27",
   "metadata": {},
   "source": [
    "#### 20. Faça um Programa para leitura de três notas parciais de um aluno. O programa deve calcular a média alcançada por aluno e presentar:\n",
    "<pre>\n",
    "A mensagem \"Aprovado\", se a média for maior ou igual a 7, com a respectiva média alcançada;\n",
    "A mensagem \"Reprovado\", se a média for menor do que 7, com a respectiva média alcançada;\n",
    "A mensagem \"Aprovado com Distinção\", se a média for igual a 10.\n",
    "</pre>"
   ]
  },
  {
   "cell_type": "code",
   "execution_count": null,
   "id": "58240b1b",
   "metadata": {
    "scrolled": true
   },
   "outputs": [],
   "source": [
    "nota1 = float(input('Primeira nota parcial: '))\n",
    "nota2 = float(input('Segunda nota parcial: '))\n",
    "nota3 = float(input('Terceira nota parcial: '))\n",
    "media = (nota1 + nota2 + nota3) / 3\n",
    "\n",
    "if media == 10:\n",
    "    print(f'Média: {media:.1f}\\nAprovado com Distinção')\n",
    "elif media >= 7:\n",
    "    print(f'Média: {media:.1f}\\nAprovado')\n",
    "else:\n",
    "    print(f'Média: {media:.1f}\\nReprovado')"
   ]
  },
  {
   "cell_type": "markdown",
   "id": "d967fc3e",
   "metadata": {},
   "source": [
    "#### 21. Faça um Programa para um caixa eletrônico. \n",
    "\n",
    "O programa deverá perguntar ao usuário a valor do saque e depois informar quantas notas de cada valor serão fornecidas. As notas disponíveis serão as de 1, 5, 10, 50 e 100 reais. O valor mínimo é de 10 reais e o máximo de 600 reais. O programa não deve se preocupar com a quantidade de notas existentes na máquina.\n",
    "- Exemplo 1: Para sacar a quantia de 256 reais, o programa fornece duas notas de 100, uma nota de 50, uma nota de 5 e uma nota de 1;\n",
    "- Exemplo 2: Para sacar a quantia de 399 reais, o programa fornece três notas de 100, uma nota de 50, quatro notas de 10, uma nota de 5 e quatro notas de 1."
   ]
  },
  {
   "cell_type": "code",
   "execution_count": null,
   "id": "56239d46",
   "metadata": {
    "scrolled": true
   },
   "outputs": [],
   "source": [
    "valor_saque = float(input('Valor do saque: R$ '))\n",
    "notas100 = 0\n",
    "notas50 = 0\n",
    "notas10 = 0\n",
    "notas5 = 0\n",
    "notas1 = 0\n",
    "\n",
    "if 10 <= valor_saque <= 600:\n",
    "    print('Serão necessárias: ')\n",
    "    if valor_saque >= 100:\n",
    "        notas100 = valor_saque // 100\n",
    "        print(f'{notas100:.0f} notas de R$100')\n",
    "    if valor_saque % 100 >= 50:\n",
    "        notas50 = (valor_saque - (100 * notas100)) // 50\n",
    "        print(f'{notas50:.0f} notas de R$50')\n",
    "    if valor_saque % 50 >= 10:\n",
    "        notas10 = (valor_saque - (100 * notas100) - (50 * notas50)) // 10\n",
    "        print(f'{notas10:.0f} notas de R$10')\n",
    "    if valor_saque % 10 >= 5:\n",
    "        notas5 = (valor_saque - (100 * notas100) - (50 * notas50) - (10 * notas10)) // 5\n",
    "        print(f'{notas5:.0f} notas de R$5')\n",
    "    if valor_saque % 5 >= 1:\n",
    "        notas1 = (valor_saque - (100 * notas100 )- (50 * notas50)- (10 * notas10) - (5 * notas5))\n",
    "        print(f'{notas1:.0f} notas de R$1')\n",
    "else:\n",
    "    print('Valor indisponível. O valor disponível para saque é entre R$ 10,00 e R$ 600,00')"
   ]
  },
  {
   "cell_type": "markdown",
   "id": "49019611",
   "metadata": {},
   "source": [
    "#### 22. Faça um Programa que peça um número inteiro e determine se ele é par ou impar. \n",
    "\n",
    "Dica: utilize o operador módulo (resto da divisão)."
   ]
  },
  {
   "cell_type": "code",
   "execution_count": null,
   "id": "ceec77ef",
   "metadata": {
    "scrolled": true
   },
   "outputs": [],
   "source": [
    "num = int(input('Informe um número inteiro: '))\n",
    "\n",
    "if num % 2 == 0:\n",
    "    print(f'{num:.0f} é um número par')\n",
    "else:\n",
    "    print(f'{num:.0f} é um número ímpar')"
   ]
  },
  {
   "cell_type": "markdown",
   "id": "a01c1cb1",
   "metadata": {},
   "source": [
    "#### 23. Faça um Programa que peça um número e informe se o número é inteiro ou decimal.\n",
    "\n",
    "Dica: utilize uma função de arredondamento."
   ]
  },
  {
   "cell_type": "code",
   "execution_count": null,
   "id": "df9a6a14",
   "metadata": {
    "scrolled": true
   },
   "outputs": [],
   "source": [
    "numero = float(input('Digite um número: '))\n",
    "\n",
    "if numero % 1 == 0:\n",
    "    print(f'{numero:.0f} é um número inteiro')\n",
    "else:\n",
    "    print(f'{numero} é um número decimal')"
   ]
  },
  {
   "cell_type": "markdown",
   "id": "6b99799c",
   "metadata": {},
   "source": [
    "#### 24. Faça um Programa que leia 2 números e em seguida pergunte ao usuário qual operação ele deseja realizar. O resultado da operação deve ser acompanhado de uma frase que diga se o número é:\n",
    "- par ou ímpar;\n",
    "- positivo ou negativo;\n",
    "- inteiro ou decimal."
   ]
  },
  {
   "cell_type": "code",
   "execution_count": null,
   "id": "7eae288b",
   "metadata": {
    "scrolled": true
   },
   "outputs": [],
   "source": [
    "num1 = float(input('Primeiro número: '))\n",
    "num2 = float(input('Segundo número: '))\n",
    "op = input('Informe qual operação deseja fazer com estes dois números (+, -, *, / ou **): ')\n",
    "\n",
    "if op == '+':\n",
    "    resultado = num1 + num2\n",
    "    print(f'{num1} + {num2} = {resultado:.1f}')\n",
    "if op == '-':\n",
    "    resultado = num1 - num2\n",
    "    print(f'{num1} - {num2} = {resultado:.1f}')\n",
    "if op == '*':\n",
    "    resultado = num1 * num2\n",
    "    print(f'{num1} x {num2} = {resultado:.1f}')\n",
    "if op == '/':\n",
    "    resultado = num1 / num2\n",
    "    print(f'{num1} / {num2} = {resultado:.1f}')\n",
    "if op == '**':\n",
    "    resultado = num1 ** num2\n",
    "    print(f'{num1} ^ {num2} = {resultado:.1f}')\n",
    "    \n",
    "if resultado % 2 == 0:\n",
    "    print('O resultado é um número par')\n",
    "else:\n",
    "    print('O resultado é um número ímpar')\n",
    "\n",
    "if resultado > 0:\n",
    "    print('O resultado é positivo')\n",
    "elif resultado == 0:\n",
    "    print('O resultado é zero')\n",
    "else:\n",
    "    print('O resultado é negativo')\n",
    "\n",
    "if resultado % 1 == 0:\n",
    "    print('O resultado é um número inteiro')\n",
    "else:\n",
    "    print('O resultado é um número decimal')"
   ]
  },
  {
   "cell_type": "markdown",
   "id": "4fa35288",
   "metadata": {},
   "source": [
    "#### 25. Faça um programa que faça 5 perguntas para uma pessoa sobre um crime. As perguntas são:\n",
    "\n",
    "- \"Telefonou para a vítima?\"\n",
    "- \"Esteve no local do crime?\"\n",
    "- \"Mora perto da vítima?\"\n",
    "- \"Devia para a vítima?\"\n",
    "- \"Já trabalhou com a vítima?\"\n",
    "\n",
    "O programa deve no final emitir uma classificação sobre a participação da pessoa no crime. Se a pessoa responder positivamente a 2 questões ela deve ser classificada como \"Suspeita\", entre 3 e 4 como \"Cúmplice\" e 5 como \"Assassino\". Caso contrário, ele será classificado como \"Inocente\"."
   ]
  },
  {
   "cell_type": "code",
   "execution_count": null,
   "id": "b707cc23",
   "metadata": {
    "scrolled": true
   },
   "outputs": [],
   "source": [
    "sim = 0\n",
    "p1 = input('Telefonou para a vímtima? ')\n",
    "p2 = input('Esteve no local do crime? ')\n",
    "p3 = input('Mora perto da vítima? ')\n",
    "p4 = input('Devia para a vítima? ')\n",
    "p5 = input('Já trabalhou com a vítima? ')\n",
    "\n",
    "if p1 == 'sim':\n",
    "    sim += 1\n",
    "if p2 == 'sim':\n",
    "    sim += 1\n",
    "if p3 == 'sim':\n",
    "    sim += 1\n",
    "if p4 == 'sim':\n",
    "    sim += 1\n",
    "if p5 == 'sim':\n",
    "    sim += 1\n",
    "\n",
    "if sim == 2:\n",
    "    print('Suspeito(a)')\n",
    "elif 3 <= sim <= 4:\n",
    "    print('Cúmplice')\n",
    "elif sim == 5:\n",
    "    print('Assassino(a)')\n",
    "else:\n",
    "    print('Inocente')"
   ]
  },
  {
   "cell_type": "markdown",
   "id": "c51cfd02",
   "metadata": {},
   "source": [
    "#### 26. Um posto está vendendo combustíveis com a seguinte tabela de descontos:\n",
    "<pre>\n",
    "Álcool:\n",
    "até 20 litros, desconto de 3% por litro\n",
    "acima de 20 litros, desconto de 5% por litro\n",
    "Gasolina:\n",
    "até 20 litros, desconto de 4% por litro\n",
    "acima de 20 litros, desconto de 6% por litro\n",
    "</pre>\n",
    "Escreva um algoritmo que leia o número de litros vendidos, o tipo de combustível (codificado da seguinte forma: A-álcool, G-gasolina), calcule e imprima o valor a ser pago pelo cliente sabendo-se que o preço do litro da gasolina é R\\\\$ 2,50 o preço do litro do álcool é R$ 1,90.\n"
   ]
  },
  {
   "cell_type": "code",
   "execution_count": null,
   "id": "413f6f9e",
   "metadata": {
    "scrolled": true
   },
   "outputs": [],
   "source": [
    "tipo = input('Tipo de combustível: ')\n",
    "litros = float(input('Quantidade: '))\n",
    "preco_g = 2.5\n",
    "\n",
    "if tipo == 'A':\n",
    "    if litros <= 20:\n",
    "        preco_a = 1.9 - (0.03 * 1.9)\n",
    "        total = litros * preco_a\n",
    "        print(f'Total a pagar: R$ {total:.2f}')\n",
    "    else:\n",
    "        preco_a = 1.9 - (0.05 * 1.9)\n",
    "        total = litros * preco_a\n",
    "        print(f'Total a pagar: R$ {total:.2f}')\n",
    "if tipo == 'G':\n",
    "    if litros <= 20:\n",
    "        preco_g = 2.5 - (0.04 * 2.5)\n",
    "        total = litros * preco_g\n",
    "        print(f'Total a pagar: R$ {total:.2f}')\n",
    "    else:\n",
    "        preco_g = 2.5 - (0.06 * 2.5)\n",
    "        total = litros * preco_g\n",
    "        print(f'Total a pagar: R$ {total:.2f}')\n",
    "    "
   ]
  },
  {
   "cell_type": "markdown",
   "id": "98307b65",
   "metadata": {},
   "source": [
    "#### 27. Uma fruteira está vendendo frutas com a seguinte tabela de preços:\n",
    "<pre>\n",
    "                      Até 5 Kg           Acima de 5 Kg\n",
    "Morango         R$ 2,50 por Kg          R$ 2,20 por Kg\n",
    "Maçã            R$ 1,80 por Kg          R$ 1,50 por Kg\n",
    "</pre>\n",
    "Se o cliente comprar mais de 8 Kg em frutas ou o valor total da compra ultrapassar R$ 25,00, receberá ainda um desconto de 10% sobre este total. Escreva um algoritmo para ler a quantidade (em Kg) de morangos e a quantidade (em Kg) de maças adquiridas e escreva o valor a ser pago pelo cliente.\n"
   ]
  },
  {
   "cell_type": "code",
   "execution_count": null,
   "id": "8340a800",
   "metadata": {
    "scrolled": false
   },
   "outputs": [],
   "source": [
    "morango = float(input('Informe a quantidade de morangos: '))\n",
    "maca = float(input('Informe a quantidade de maçãs: '))\n",
    "\n",
    "if morango <= 5:\n",
    "    preco_morango = 2.5 * morango\n",
    "else:\n",
    "    preco_morango = 2.2 * morango\n",
    "if maca <= 5:\n",
    "    preco_maca = 1.8 * maca\n",
    "else:\n",
    "    preco_maca = 1.5 * maca\n",
    "    \n",
    "total = preco_morango + preco_maca\n",
    "if (morango + maca > 8) or (total > 25):\n",
    "    total_com_desconto = total - (0.1 * total)\n",
    "    print(f'Total a pagar: R$ {total_com_desconto:.2f}')\n",
    "else:\n",
    "    print(f'Total a pagar: R$ {total:.2f}')"
   ]
  },
  {
   "cell_type": "markdown",
   "id": "bb732326",
   "metadata": {},
   "source": [
    "#### 28. O Hipermercado Tabajara está com uma promoção de carnes que é imperdível. Confira:\n",
    "<pre>\n",
    "                      Até 5 Kg           Acima de 5 Kg\n",
    "File Duplo      R$ 4,90 por Kg          R$ 5,80 por Kg\n",
    "Alcatra         R$ 5,90 por Kg          R$ 6,80 por Kg\n",
    "Picanha         R$ 6,90 por Kg          R$ 7,80 por Kg\n",
    "</pre>\n",
    "Para atender a todos os clientes, cada cliente poderá levar apenas um dos tipos de carne da promoção, porém não há limites para a quantidade de carne por cliente. Se compra for feita no cartão Tabajara o cliente receberá ainda um desconto de 5% sobre o total da compra. Escreva um programa que peça o tipo e a quantidade de carne comprada pelo usuário e gere um cupom fiscal, contendo as informações da compra: tipo e quantidade de carne, preço total, tipo de pagamento, valor do desconto e valor a pagar.\n"
   ]
  },
  {
   "cell_type": "code",
   "execution_count": null,
   "id": "884f2bd9",
   "metadata": {},
   "outputs": [],
   "source": [
    "tipo = input('Informe o corte da carne: ')\n",
    "qtde = float(input('Informe a quantidade de carne: '))\n",
    "pagamento = input('Informe o método de pagamento: Dinheiro - D, Cartão Tabajara - T, Cartão - C: ')\n",
    "\n",
    "if tipo == 'Filé Duplo':\n",
    "    if qtde <= 5:\n",
    "        preco = 4.9 * qtde\n",
    "    else:\n",
    "        preco = 5.8 * qtde\n",
    "if tipo == 'Alcatra':\n",
    "    if qtde <= 5:\n",
    "        preco = 5.9 * qtde\n",
    "    else:\n",
    "        preco = 6.8 * qtde\n",
    "if tipo == 'Picanha':\n",
    "    if qtde <= 5:\n",
    "        preco = 6.9 * qtde\n",
    "    else:\n",
    "        preco = 7.8 * qtde\n",
    "if pagamento == 'T':\n",
    "    desconto = 0.05 * preco\n",
    "    preco = preco - desconto\n",
    "else:\n",
    "    desconto = 0\n",
    "    preco = preco\n",
    "    \n",
    "print('---CUPOM FISCAL---')\n",
    "print(f'Corte da carne: {tipo}')\n",
    "print(f'Quantidade: {qtde:.0f} kg ')\n",
    "print(f'Desconto: R$ {desconto:.2f}')\n",
    "print(f'Total a pagar: R$ {preco:.2f}')"
   ]
  }
 ],
 "metadata": {
  "kernelspec": {
   "display_name": "Python 3 (ipykernel)",
   "language": "python",
   "name": "python3"
  },
  "language_info": {
   "codemirror_mode": {
    "name": "ipython",
    "version": 3
   },
   "file_extension": ".py",
   "mimetype": "text/x-python",
   "name": "python",
   "nbconvert_exporter": "python",
   "pygments_lexer": "ipython3",
   "version": "3.9.7"
  }
 },
 "nbformat": 4,
 "nbformat_minor": 5
}
