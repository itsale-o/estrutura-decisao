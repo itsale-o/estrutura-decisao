{
 "cells": [
  {
   "cell_type": "markdown",
   "id": "ca388fd1",
   "metadata": {},
   "source": [
    "# Estruturas de decisão"
   ]
  },
  {
   "cell_type": "markdown",
   "id": "3181769b",
   "metadata": {},
   "source": [
    "#### 1. Faça um Programa que peça dois números e imprima o maior deles."
   ]
  },
  {
   "cell_type": "code",
   "execution_count": null,
   "id": "9fa58899",
   "metadata": {},
   "outputs": [],
   "source": [
    "num1 = float(input('Insira o primeiro número: '))\n",
    "num2 = float(input('Insira o segundo número: '))\n",
    "\n",
    "if num1 > num2:\n",
    "    print(f'O maior número é o {num1:.0f}')\n",
    "elif num2 > num1:\n",
    "    print(f'O maior número é o {num2:.0f}')\n",
    "else:\n",
    "    print('Os números são iguais')"
   ]
  },
  {
   "cell_type": "markdown",
   "id": "1a865b44",
   "metadata": {},
   "source": [
    "#### 2. Faça um Programa que peça um valor e mostre na tela se o valor é positivo ou negativo."
   ]
  },
  {
   "cell_type": "code",
   "execution_count": null,
   "id": "2abe551a",
   "metadata": {},
   "outputs": [],
   "source": [
    "valor = float(input('Insira um número: '))\n",
    "\n",
    "if valor > 0:\n",
    "    print(f'{valor:.0f} é um número positivo')\n",
    "elif valor < 0:\n",
    "    print(f'{valor:.0f} é um número negativo')\n",
    "else: \n",
    "    print('O número informado é o número zero')"
   ]
  },
  {
   "cell_type": "markdown",
   "id": "6e1bc0bb",
   "metadata": {},
   "source": [
    "#### 3. Faça um Programa que verifique se uma letra digitada é \"F\" ou \"M\". Conforme a letra escrever: F - Feminino, M - Masculino, Inválido."
   ]
  },
  {
   "cell_type": "code",
   "execution_count": null,
   "id": "5be8ec4b",
   "metadata": {},
   "outputs": [],
   "source": [
    "genero = input('Informe seu gênero utilizando F ou M: ')\n",
    "\n",
    "if genero == 'F' or genero == 'f':\n",
    "    print('Feminino')\n",
    "elif genero == 'M' or genero == 'm':\n",
    "    print('Masculino')\n",
    "else:\n",
    "    print('Entrada inválida')"
   ]
  },
  {
   "cell_type": "markdown",
   "id": "05e61e20",
   "metadata": {},
   "source": [
    "#### 4. Faça um Programa que verifique se uma letra digitada é vogal ou consoante."
   ]
  },
  {
   "cell_type": "code",
   "execution_count": null,
   "id": "ed49e2e0",
   "metadata": {},
   "outputs": [],
   "source": [
    "vogais = 'A, a, E, e, I, i, O, o, U u'\n",
    "letra = input('Digite uma letra: ')\n",
    "\n",
    "if letra in vogais:\n",
    "    print(f'{letra} é uma vogal')\n",
    "else:\n",
    "    print(f'{letra} é uma consoante')"
   ]
  },
  {
   "cell_type": "markdown",
   "id": "c1d45040",
   "metadata": {},
   "source": [
    "#### 5. Faça um programa para a leitura de duas notas parciais de um aluno. O programa deve calcular a média alcançada por aluno e apresentar:\n",
    "\n",
    "- A mensagem \"Aprovado\", se a média alcançada for maior ou igual a sete;\n",
    "- A mensagem \"Reprovado\", se a média for menor do que sete;\n",
    "- A mensagem \"Aprovado com Distinção\", se a média for igual a dez."
   ]
  },
  {
   "cell_type": "code",
   "execution_count": null,
   "id": "a3d40619",
   "metadata": {},
   "outputs": [],
   "source": [
    "nota1 = float(input('Nota 1: '))\n",
    "nota2 = float(input('Nota 2: '))\n",
    "media = (nota1 + nota2) / 2\n",
    "\n",
    "if 7 <= media < 10:\n",
    "    print(f'Média: {media:.1f} - Aprovado')\n",
    "elif media == 10:\n",
    "    print(f'Média: {media:.1f} - Aprovado com Distinção')\n",
    "else:\n",
    "    print(f'Média: {media:.1f} - Reprovado')"
   ]
  },
  {
   "cell_type": "markdown",
   "id": "f80be235",
   "metadata": {},
   "source": [
    "#### 6. Faça um Programa que leia três números e mostre o maior deles."
   ]
  },
  {
   "cell_type": "code",
   "execution_count": null,
   "id": "5c088423",
   "metadata": {},
   "outputs": [],
   "source": [
    "num1 = float(input('Primeiro número: '))\n",
    "num2 = float(input('Segundo número: '))\n",
    "num3 = float(input('Terceiro número: '))\n",
    "\n",
    "if num1 > num2 and num1 > num3:\n",
    "    print(f'O maior número é o: {num1:.0f}')\n",
    "elif num2 > num1 and num2 > num3:\n",
    "    print(f'O maior número é o: {num2:.0f}')\n",
    "elif num3 > num1 and num3 > num2:\n",
    "    print(f'O maior número é o: {num3:.0f}')"
   ]
  },
  {
   "cell_type": "markdown",
   "id": "f68ba4b7",
   "metadata": {},
   "source": [
    "#### 7. Faça um Programa que leia três números e mostre o maior e o menor deles."
   ]
  },
  {
   "cell_type": "code",
   "execution_count": null,
   "id": "c8826256",
   "metadata": {},
   "outputs": [],
   "source": [
    "num1 = float(input('Primeiro número: '))\n",
    "num2 = float(input('Segundo número: '))\n",
    "num3 = float(input('Terceiro número: '))\n",
    "\n",
    "if num1 > num2 and num1 > num3:\n",
    "    if num2 > num3:\n",
    "        print(f'O maior número é: {num1:.0f}\\nO menor número é: {num3:.0f}')\n",
    "    else:\n",
    "        print(f'O maior número é: {num1:.0f}\\nO menor número é: {num2:.0f}')\n",
    "elif num2 > num1 and num2 > num3:\n",
    "    if num1 > num3:\n",
    "        print(f'O maior número é: {num2:.0f}\\nO menor número é: {num3:.0f}')\n",
    "    else:\n",
    "        print(f'O maior número é: {num2:.0f}\\nO menor número é: {num1:.0f}')\n",
    "if num3 > num1 and num3 > num2:\n",
    "    if num1 > num2:\n",
    "        print(f'O maior número é: {num3:.0f}\\nO menor número é: {num2:.0f}')\n",
    "    else:\n",
    "        print(f'O maior número é: {num3:.0f}\\nO menor número é: {num1:.0f}')"
   ]
  },
  {
   "cell_type": "markdown",
   "id": "94ad1de6",
   "metadata": {},
   "source": [
    "#### 8. Faça um programa que pergunte o preço de três produtos e informe qual produto você deve comprar, sabendo que a decisão é sempre pelo mais barato."
   ]
  },
  {
   "cell_type": "code",
   "execution_count": null,
   "id": "0afb5160",
   "metadata": {},
   "outputs": [],
   "source": [
    "produto1 = float(input('Informe o preço do primeiro produto: R$ '))\n",
    "produto2 = float(input('Informe o preço do segundo produto: R$ '))\n",
    "produto3 = float(input('Informe o preço do terceiro produto: R$ '))\n",
    "\n",
    "if produto1 < produto2 and produto1 < produto3:\n",
    "    print(f'Deve-se comprar o primeiro produto.\\nValor: R$ {produto1:.2f}')\n",
    "elif produto2 < produto1 and produto2 < produto3:\n",
    "    print(f'Deve-se comprar o segundo produto.\\nValor: R$ {produto2:.2f}')\n",
    "elif produto3 < produto1 and produto3 < produto2:\n",
    "    print(f'Deve-se comprar o terceiro produto.\\nValor: R$ {produto3:.2f}')"
   ]
  },
  {
   "cell_type": "markdown",
   "id": "02b8b0cf",
   "metadata": {},
   "source": [
    "#### 9. Faça um Programa que leia três números e mostre-os em ordem decrescente."
   ]
  },
  {
   "cell_type": "code",
   "execution_count": null,
   "id": "8e89c2e8",
   "metadata": {},
   "outputs": [],
   "source": [
    "num1 = float(input('Primeiro número: '))\n",
    "num2 = float(input('Segundo número: '))\n",
    "num3 = float(input('Terceiro número: '))\n",
    "\n",
    "if num1 > num2 and num1 > num3:\n",
    "    if num2 > num3:\n",
    "        print(f'{num1:.0f}, {num2:.0f}, {num3:.0f}')\n",
    "    else:\n",
    "        print(f'{num1:.0f}, {num3:.0f}, {num2:0f}')\n",
    "elif num2 > num1 and num2 > num3:\n",
    "    if num1 > num3:\n",
    "        print(f'{num2:.0f}, {num1:.0f}, {num3:.0f}')\n",
    "    else:\n",
    "        print(f'{num2:.0f}, {num3:.0f}, {num1:.0f}')\n",
    "elif num3 > num1 and num3 > num2:\n",
    "    if num1 > num2:\n",
    "        print(f'{num3:.0f}, {num1:.0f}, {num2:.0f}')\n",
    "    else:\n",
    "        print(f'{num3:.0f}, {num2:.0f}, {num1:.0f}')"
   ]
  },
  {
   "cell_type": "markdown",
   "id": "db250415",
   "metadata": {},
   "source": [
    "#### 10. Faça um Programa que pergunte em que turno você estuda. Peça para digitar M-matutino ou V-Vespertino ou N- Noturno. Imprima a mensagem \"Bom Dia!\", \"Boa Tarde!\" ou \"Boa Noite!\" ou \"Valor Inválido!\", conforme o caso."
   ]
  },
  {
   "cell_type": "code",
   "execution_count": null,
   "id": "5dba316a",
   "metadata": {},
   "outputs": [],
   "source": [
    "periodo = input('Informe qual período você estuda: ')\n",
    "\n",
    "if periodo == 'M' or periodo == 'm':\n",
    "    print('Bom Dia!')\n",
    "elif periodo == 'V' or periodo == 'v':\n",
    "    print('Boa Tarde!')\n",
    "elif periodo == 'N' or periodo == 'n':\n",
    "    print('Boa Noite!')\n",
    "else:\n",
    "    print('Entrada Inválida!')"
   ]
  },
  {
   "cell_type": "markdown",
   "id": "e19bde40",
   "metadata": {},
   "source": [
    "#### 11. As Organizações Tabajara resolveram dar um aumento de salário aos seus colaboradores e lhe contraram para desenvolver o programa que calculará os reajustes. Faça um programa que recebe o salário de um colaborador e o reajuste segundo o seguinte critério, baseado no salário atual:\n",
    "\n",
    "##### salários até R\\\\$ 280,00 (incluindo) : aumento de 20% \n",
    "\n",
    "##### salários entre R\\\\$ 280,00 e R\\\\$ 700,00 : aumento de 15% \n",
    "\n",
    "##### salários entre R\\\\$ 700,00 e R\\\\$ 1500,00 : aumento de 10% \n",
    "\n",
    "##### salários de R\\\\$ 1500,00 em diante : aumento de 5% Após o aumento ser realizado, informe na tela: \n",
    "\n",
    "###### o salário antes do reajuste;\n",
    "\n",
    "###### o percentual de aumento aplicado;\n",
    "\n",
    "###### o valor do aumento;\n",
    "\n",
    "###### o novo salário, após o aumento."
   ]
  },
  {
   "cell_type": "code",
   "execution_count": null,
   "id": "8788ca69",
   "metadata": {},
   "outputs": [],
   "source": [
    "salario = float(input('Informe seu salário: '))\n",
    "\n",
    "if salario <= 280:\n",
    "    percentual_aumento = 0.2\n",
    "elif 280 < salario <= 700:\n",
    "    percentual_aumento = 0.15\n",
    "elif 700 < salario <= 1500:\n",
    "    percentual_aumento = 0.1\n",
    "else:\n",
    "    percentual_aumento = 0.05\n",
    "aumento = (percentual_aumento * salario)\n",
    "novo_salario = salario + aumento\n",
    "print(f'Salário anterior: R$ {salario:.2f}\\nPercentual de aumento aplicado: {percentual_aumento * 100:.0f}%\\nValor do aumento: R$ {aumento:.2f}\\nNovo valor para o salário: R$ {novo_salario:.2f}')"
   ]
  },
  {
   "cell_type": "markdown",
   "id": "60eae8bb",
   "metadata": {},
   "source": [
    "#### 12 . Faça um programa para o cálculo de uma folha de pagamento, sabendo que os descontos são do Imposto de Renda, que depende do salário bruto (conforme tabela abaixo) e 3% para o Sindicato e que o FGTS corresponde a 11% do Salário Bruto, mas não é descontado (é a empresa que deposita). O Salário Líquido corresponde ao Salário Bruto menos os descontos. O programa deverá pedir ao usuário o valor da sua hora e a quantidade de horas trabalhadas no mês.\n",
    "\n",
    "Desconto do IR:<br>\n",
    "Salário Bruto até 900 (inclusive) - isento<br>\n",
    "Salário Bruto até 1500 (inclusive) - desconto de 5%<br>\n",
    "Salário Bruto até 2500 (inclusive) - desconto de 10%<br>\n",
    "Salário Bruto acima de 2500 - desconto de 20%<br>\n",
    "Imprima na tela as informações, dispostas conforme o exemplo abaixo. No exemplo o valor da hora é 5 e a quantidade de hora é 220.\n",
    "\n",
    "Salário Bruto: (5 * 220)        : R\\\\$ 1100,00<br>\n",
    "(-) IR (5%)                     : R\\\\$   55,00<br>\n",
    "(-) INSS ( 10%)                 : R\\\\$  110,00<br>\n",
    "FGTS (11%)                      : R\\\\$  121,00<br>\n",
    "Total de descontos              : R\\\\$  165,00<br>\n",
    "Salário Liquido                 : R\\\\$  935,00<br>"
   ]
  },
  {
   "cell_type": "code",
   "execution_count": null,
   "id": "1a7903a3",
   "metadata": {},
   "outputs": [],
   "source": [
    "valor_hora = float(input('Valor recebido por hora trabalhada: R$ '))\n",
    "horas = float(input('Horas trabalhadas no referido mês: '))\n",
    "salario_bruto = valor_hora * horas\n",
    "\n",
    "if salario_bruto <= 900:\n",
    "    porcentagem_ir = 0\n",
    "elif 900 < salario_bruto <= 1500:\n",
    "    porcentagem_ir = 0.05\n",
    "elif 1500 < salario_bruto <= 2500:\n",
    "    porcentagem_ir = 0.1\n",
    "else:\n",
    "    porcentagem_ir = 0.2\n",
    "ir = salario_bruto * porcentagem_ir\n",
    "inss = 0.1 * salario_bruto\n",
    "fgts = 0.11 * salario_bruto\n",
    "descontos = ir + inss\n",
    "salario_liquido = salario_bruto - descontos\n",
    "\n",
    "print(f'Salário Bruto ({valor_hora:.2f} x {horas:.0f}): R$ {salario_bruto}\\n(-) IR ({porcentagem_ir * 100:.0f}%): R$ {ir:.2f}\\n(-) INSS (10%): R$ {inss:.2f}\\nFGTS (11%): R$ {fgts:.2f}\\nTotal de Descontos: R$ {descontos:.2f}\\nSalário Líquido: R$ {salario_liquido:.2f}')"
   ]
  },
  {
   "cell_type": "markdown",
   "id": "52468866",
   "metadata": {},
   "source": [
    "#### 13. Faça um Programa que leia um número e exiba o dia correspondente da semana. (1-Domingo, 2- Segunda, etc.), se digitar outro valor deve aparecer valor inválido."
   ]
  },
  {
   "cell_type": "code",
   "execution_count": null,
   "id": "5140c8ea",
   "metadata": {},
   "outputs": [],
   "source": [
    "dia = float(input('Digite um número correspondente a um dia da semana: '))\n",
    "\n",
    "if dia == 1:\n",
    "    print('Domingo')\n",
    "elif dia == 2:\n",
    "    print('Segunda-Feira')\n",
    "elif dia == 3:\n",
    "    print('Terça-Feira')\n",
    "elif dia == 4:\n",
    "    print('Quarta-Feira')\n",
    "elif dia == 5:\n",
    "    print('Quinta-Feira')\n",
    "elif dia == 6:\n",
    "    print('Sexta-Feira')\n",
    "elif dia == 7:\n",
    "    print('Sábado')\n",
    "else:\n",
    "    print('Entrada Inválida')"
   ]
  },
  {
   "cell_type": "markdown",
   "id": "772b125a",
   "metadata": {},
   "source": [
    "#### 14. Faça um programa que lê as duas notas parciais obtidas por um aluno numa disciplina ao longo de um semestre, e calcule a sua média. Em seguida, mostre qual conceito o aluno teve. A atribuição de conceitos obedece à tabela abaixo:\n",
    "<pre>\n",
    "Média de Aproveitamento  Conceito\n",
    "Entre 9.0 e 10.0        A\n",
    "Entre 7.5 e 9.0         B\n",
    "Entre 6.0 e 7.5         C\n",
    "Entre 4.0 e 6.0         D\n",
    "Entre 4.0 e zero        E\n",
    "</pre>"
   ]
  },
  {
   "cell_type": "code",
   "execution_count": null,
   "id": "67dd7136",
   "metadata": {},
   "outputs": [],
   "source": [
    "nota1 = float(input('Nota 1: '))\n",
    "nota2 = float(input('Nota 2: '))\n",
    "media = (nota1 + nota2) / 2\n",
    "print(f'Média: {media:.1f}')\n",
    "\n",
    "if 9 <= media <= 10:\n",
    "    print('Conceito - A')\n",
    "elif 7.5 <= media < 9:\n",
    "    print('Conceito - B')\n",
    "elif 6 <= media < 7.5:\n",
    "    print('Conceito - C')\n",
    "elif 4 <= media < 6:\n",
    "    print('Conceito - D')\n",
    "else:\n",
    "    print('Conceito - E')"
   ]
  }
 ],
 "metadata": {
  "kernelspec": {
   "display_name": "Python 3 (ipykernel)",
   "language": "python",
   "name": "python3"
  },
  "language_info": {
   "codemirror_mode": {
    "name": "ipython",
    "version": 3
   },
   "file_extension": ".py",
   "mimetype": "text/x-python",
   "name": "python",
   "nbconvert_exporter": "python",
   "pygments_lexer": "ipython3",
   "version": "3.9.7"
  }
 },
 "nbformat": 4,
 "nbformat_minor": 5
}
